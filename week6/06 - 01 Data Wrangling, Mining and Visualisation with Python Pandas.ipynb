{
 "cells": [
  {
   "cell_type": "markdown",
   "metadata": {},
   "source": [
    "# Exploring data"
   ]
  },
  {
   "cell_type": "markdown",
   "metadata": {},
   "source": [
    "## Working with dataframes  \n",
    "\n",
    "Dataframes are a data structure specific to the pandas library in Python. Pandas gives us a wide range of functions for reading and writing data in a structured tabular format, and for cleaning, reshaping and viewing the data.\n",
    "\n",
    "[Link to pandas documentation](https://pandas.pydata.org/docs/user_guide/10min.html)"
   ]
  },
  {
   "cell_type": "markdown",
   "metadata": {
    "jp-MarkdownHeadingCollapsed": true
   },
   "source": [
    "### Fetching data"
   ]
  },
  {
   "cell_type": "code",
   "execution_count": null,
   "metadata": {},
   "outputs": [],
   "source": [
    "# import the library\n",
    "import pandas as pd # 'pd' is a common alias for pandas, to make it shorter to type when you need to call on it"
   ]
  },
  {
   "cell_type": "code",
   "execution_count": null,
   "metadata": {},
   "outputs": [],
   "source": [
    "# declare a variable (df)\n",
    "# read in the CSV file contents to be the value of the variable\n",
    "df = pd.read_csv(\"employees.csv\") # the file needs to be in the same directory as the Jupyter notebook"
   ]
  },
  {
   "cell_type": "markdown",
   "metadata": {
    "jp-MarkdownHeadingCollapsed": true
   },
   "source": [
    "### Inspecting data"
   ]
  },
  {
   "cell_type": "code",
   "execution_count": null,
   "metadata": {},
   "outputs": [],
   "source": [
    "# view the top n rows of the dataframe\n",
    "# default n is 5\n",
    "# change this by specifying inside the brackets e.g. df.head(2)\n",
    "df.head()"
   ]
  },
  {
   "cell_type": "code",
   "execution_count": null,
   "metadata": {},
   "outputs": [],
   "source": [
    "# view the dataframe's column headings\n",
    "df.columns"
   ]
  },
  {
   "cell_type": "code",
   "execution_count": null,
   "metadata": {},
   "outputs": [],
   "source": [
    "# see a random sample of a row from the dataframe\n",
    "# default is one row\n",
    "# change this by specifying inside the brackets e.g. df.sample(10)\n",
    "df.sample()"
   ]
  },
  {
   "cell_type": "code",
   "execution_count": null,
   "metadata": {},
   "outputs": [],
   "source": [
    "# view the shape of hte dataframe \n",
    "# (the number of rows and columns)\n",
    "df.shape"
   ]
  },
  {
   "cell_type": "code",
   "execution_count": null,
   "metadata": {
    "scrolled": true
   },
   "outputs": [],
   "source": [
    "# view summary statistics for any numeric columns in the dataframe\n",
    "df.describe()"
   ]
  },
  {
   "cell_type": "markdown",
   "metadata": {
    "jp-MarkdownHeadingCollapsed": true
   },
   "source": [
    "### Filtering data"
   ]
  },
  {
   "cell_type": "code",
   "execution_count": null,
   "metadata": {},
   "outputs": [],
   "source": [
    "# view or call on a single column from the dataframe\n",
    "df['Start Date'] # if a column name has spaces, address it like this"
   ]
  },
  {
   "cell_type": "code",
   "execution_count": null,
   "metadata": {},
   "outputs": [],
   "source": [
    "# filter rows depending on a specific condition\n",
    "# e.g. the city name is 'dallas'\n",
    "df_dallas = df.loc[df.City==\"dallas\"] # returns nothing! why?\n",
    "df_dallas"
   ]
  },
  {
   "cell_type": "code",
   "execution_count": null,
   "metadata": {},
   "outputs": [],
   "source": [
    "# filter rows based on position\n",
    "df_mid = df.iloc[3:7]\n",
    "df_mid"
   ]
  },
  {
   "cell_type": "code",
   "execution_count": null,
   "metadata": {},
   "outputs": [],
   "source": [
    "# filter rows based on a comparison operator\n",
    "df_retirement = df[df.Age > 58]\n",
    "df_retirement"
   ]
  },
  {
   "cell_type": "code",
   "execution_count": null,
   "metadata": {},
   "outputs": [],
   "source": [
    "# filter rows based on multiple conditions and a logical operator\n",
    "# e.g. 'Age' is more than 58 AND 'State' is Florida \n",
    "df_age_state = df[(df.Age > 58) & (df.State == \" Florida \")]\n",
    "df_age_state"
   ]
  },
  {
   "cell_type": "code",
   "execution_count": null,
   "metadata": {},
   "outputs": [],
   "source": [
    "# filter rows using a list of values to include\n",
    "boolean_mask = df.City.isin([' dallas ', ' miami '])\n",
    "df_list = df[boolean_mask]\n",
    "df_list"
   ]
  },
  {
   "cell_type": "markdown",
   "metadata": {},
   "source": [
    "## Cleaning and reshaping data"
   ]
  },
  {
   "cell_type": "markdown",
   "metadata": {
    "jp-MarkdownHeadingCollapsed": true
   },
   "source": [
    "### Removing unnecessary data"
   ]
  },
  {
   "cell_type": "code",
   "execution_count": null,
   "metadata": {},
   "outputs": [],
   "source": [
    "# delete unneeded columns \n",
    "df_no_age = df.drop(columns=['Age'])\n",
    "df_no_age.head()"
   ]
  },
  {
   "cell_type": "code",
   "execution_count": null,
   "metadata": {},
   "outputs": [],
   "source": [
    "# convert date values to datetime dtype\n",
    "# if we don't do this, the values will not behave like dates\n",
    "# and we can't use them for time series analysis\n",
    "df['DateOfBirth'] = pd.to_datetime(df['DateOfBirth'])\n",
    "\n",
    "# display datetime values in a preferred format\n",
    "# note this does not change the underlying datetime value\n",
    "df['DateOfBirth'] = df['DateOfBirth'].dt.strftime('%d/%m/%y')\n",
    "df.head()"
   ]
  },
  {
   "cell_type": "markdown",
   "metadata": {
    "jp-MarkdownHeadingCollapsed": true
   },
   "source": [
    "### NULL and NaN values  \n",
    "\n",
    "  Some values might be blank in your data. Excel and Power BI can work with them, but pandas does not.  \n",
    "  There are several built-in pandas functions to deal with these so they don't interfere with your analysis later."
   ]
  },
  {
   "cell_type": "code",
   "execution_count": null,
   "metadata": {},
   "outputs": [],
   "source": [
    "# remove rows with NULL values (be sure this is what you want to happen!)\n",
    "#df = df.dropna(how='all') # drop the row if ALL the values are NULL or NaN\n",
    "#df = df.dropna(how='any') # drop the row if ANY of the values are NULL or NaN\n",
    "\n",
    "# OR fill any NULL or NaN values with a new value\n",
    "df = df.fillna(0) # if the values are meant to be numeric, the number zero is a common filler"
   ]
  },
  {
   "cell_type": "markdown",
   "metadata": {
    "jp-MarkdownHeadingCollapsed": true
   },
   "source": [
    "### Removing duplicate rows"
   ]
  },
  {
   "cell_type": "code",
   "execution_count": null,
   "metadata": {},
   "outputs": [],
   "source": [
    "# identifies duplicate rows in the dataframe, based on all columns\n",
    "df_dupes = df[df.duplicated()] \n",
    "# identifies duplicate rows in the dataframe, based on a subset of columns\n",
    "df_dupe_name_age = df[df.duplicated(subset = ['Name', 'Age'])] \n",
    "df.drop_duplicates(inplace=True, keep='first')\n",
    "# keep = 'first' keeps the first observed row, marks later ones as duplicates\n",
    "# keep = last keeps the last observed duplicate row\n",
    "# keep = False marks all duplicates"
   ]
  },
  {
   "cell_type": "markdown",
   "metadata": {
    "jp-MarkdownHeadingCollapsed": true
   },
   "source": [
    "### Converting data types  \n",
    "When we start looking at machine learning models, there will be times that we want categorical variables encoded as numbers. This is because many models will not treat a variable as a factor in the model if it is not numeric."
   ]
  },
  {
   "cell_type": "code",
   "execution_count": null,
   "metadata": {},
   "outputs": [],
   "source": [
    "# converting data types\n",
    "# you can check data types for all columns using dtypes\n",
    "print(df.dtypes)"
   ]
  },
  {
   "cell_type": "code",
   "execution_count": null,
   "metadata": {},
   "outputs": [],
   "source": [
    "# converting categorical variables to integer values 1 or 0 (TRUE or FALSE)\n",
    "# the option you specify in the conditions will be coded to '1' or TRUE\n",
    "# everytihng else wil lbe coded to '0' or FALSE \n",
    "df['Gender'] = (df['Gender']==' female ').astype('int')"
   ]
  },
  {
   "cell_type": "markdown",
   "metadata": {},
   "source": [
    "Before we encode categorical variables we should make sure the categories are clean and well defined. We may need to change cases, remove trailing and leading whitespace, and take out currency symbols."
   ]
  },
  {
   "cell_type": "code",
   "execution_count": null,
   "metadata": {},
   "outputs": [],
   "source": [
    "# tidying and manipulating text strings\n",
    "# convert to upper case\n",
    "df['Name'] = df['Name'].str.upper()\n",
    "# instad of 'upper' try 'lower' (convert to lower case) and 'strip' (removes whitespace)\n",
    "df.head()"
   ]
  },
  {
   "cell_type": "code",
   "execution_count": null,
   "metadata": {},
   "outputs": [],
   "source": [
    "# replace substrings (parts of the text value)\n",
    "# e.g. remove the currecny symbol from values to make them numeric\n",
    "#df['Salary'] = df['Salary'].str.replace('$', '').astype('int')"
   ]
  },
  {
   "cell_type": "code",
   "execution_count": null,
   "metadata": {},
   "outputs": [],
   "source": [
    "# extract part of the string\n",
    "# index is inclusive of start, exclusive of stop\n",
    "df['substring'] = df['Name'].str.slice(start=2, stop=9)\n",
    "df.head()"
   ]
  },
  {
   "cell_type": "code",
   "execution_count": null,
   "metadata": {},
   "outputs": [],
   "source": [
    "# search a string\n",
    "# get the rows where the name contains 'alice'\n",
    "contains_pattern = df['Name'].str.contains('austin')\n",
    "filtered_data = df[contains_pattern]\n",
    "print(filtered_data)"
   ]
  },
  {
   "cell_type": "markdown",
   "metadata": {
    "jp-MarkdownHeadingCollapsed": true
   },
   "source": [
    "### Change scale or scope"
   ]
  },
  {
   "cell_type": "markdown",
   "metadata": {},
   "source": [
    "#### Custom functions"
   ]
  },
  {
   "cell_type": "code",
   "execution_count": null,
   "metadata": {},
   "outputs": [],
   "source": [
    "# applying a custom function to a series or to the entire dataframe\n",
    "# for a series: each element of the original column is passed to the function\n",
    "# for a dataframe: based on the axis (1 = row, 0 = column) \n",
    "# the entire row or column is passed to the function\n",
    "\n",
    "# define a function to calculate age in months\n",
    "def age_in_months(x):\n",
    "    if isinstance(x, (float, int)):\n",
    "        return x * 12\n",
    "    return x\n",
    "\n",
    "# apply the function to the Age column\n",
    "df['AgeInMonths'] = df['Age'].apply(age_in_months)\n",
    "df.head()"
   ]
  },
  {
   "cell_type": "code",
   "execution_count": null,
   "metadata": {},
   "outputs": [],
   "source": [
    "# define a function to map genders to numerical values\n",
    "mapping_dict = {'Female':1, 'Male': 0}\n",
    "\n",
    "# apply the mapping to the Gender column\n",
    "df['gender_numeric'] = df['Gender'].map(mapping_dict)\n",
    "df.head()"
   ]
  },
  {
   "cell_type": "code",
   "execution_count": null,
   "metadata": {},
   "outputs": [],
   "source": [
    "# define a value to replace 'None' values with 'Unknown'\n",
    "def replace_none(x):\n",
    "    if x is None:\n",
    "        return 'Unknown'\n",
    "    return x\n",
    "\n",
    "# apply the function to the whole dataframe\n",
    "df = df.applymap(replace_none) # older versions of Pandas\n",
    "# df = df.map(replace_none) # newer versions of Pandas\n",
    "\n",
    "df.head()"
   ]
  },
  {
   "cell_type": "markdown",
   "metadata": {
    "jp-MarkdownHeadingCollapsed": true
   },
   "source": [
    "### Changing shape - GROUPBY"
   ]
  },
  {
   "cell_type": "code",
   "execution_count": null,
   "metadata": {},
   "outputs": [],
   "source": [
    "# group the dataframe by column 'State' and calculate the sum of 'Salary'\n",
    "grouped = df.groupby('State')['Salary'].sum()\n",
    "# try some other aggregate functions - mean, median, mode\n",
    "grouped"
   ]
  },
  {
   "cell_type": "markdown",
   "metadata": {},
   "source": [
    "# Visualising data with pandas, matplotlib, and seaborn"
   ]
  },
  {
   "cell_type": "markdown",
   "metadata": {
    "jp-MarkdownHeadingCollapsed": true
   },
   "source": [
    "## matplotlib"
   ]
  },
  {
   "cell_type": "code",
   "execution_count": null,
   "metadata": {},
   "outputs": [],
   "source": [
    "# uncomment to install on first run\n",
    "#%pip install matplotlib\n",
    "\n",
    "import matplotlib.pyplot as plt\n",
    "\n",
    "# Data representing monthly website traffic (in thousands)\n",
    "months = ['Jan', 'Feb', 'Mar', 'Apr', 'May', 'Jun']\n",
    "traffic = [150, 200, 180, 220, 250, 210]\n",
    "plt.plot()\n",
    "# Create a line plot\n",
    "plt.plot(months, traffic)\n",
    "plt.show()"
   ]
  },
  {
   "cell_type": "code",
   "execution_count": null,
   "metadata": {},
   "outputs": [],
   "source": [
    "import matplotlib.pyplot as plt\n",
    "\n",
    "# Sample data representing monthly website traffic (in thousands)\n",
    "months = ['Jan', 'Feb', 'Mar', 'Apr', 'May', 'Jun']\n",
    "traffic = [150, 200, 180, 220, 250, 210]\n",
    "\n",
    "# Create a line plot\n",
    "plt.plot(months, traffic)\n",
    "\n",
    "# Add labels and a title\n",
    "plt.xlabel('Month')\n",
    "plt.ylabel('Monthly Traffic (in Thousands)')\n",
    "plt.title('Monthly Website Traffic')\n",
    "\n",
    "plt.show()"
   ]
  },
  {
   "cell_type": "code",
   "execution_count": null,
   "metadata": {},
   "outputs": [],
   "source": [
    "# Create a line plot with custom appearance\n",
    "plt.plot(months, traffic, marker='o', linestyle='--', color='g')\n",
    "\n",
    "# Add labels and a title\n",
    "plt.xlabel('Month')\n",
    "plt.ylabel('Monthly Traffic (in Thousands)')\n",
    "plt.title('Monthly Website Traffic')\n",
    "\n",
    "# Add grid to the plot\n",
    "plt.grid(True)\n",
    "# Display the plot\n",
    "plt.show()"
   ]
  },
  {
   "cell_type": "code",
   "execution_count": null,
   "metadata": {},
   "outputs": [],
   "source": [
    "# Sample data for two products' monthly revenue (in thousands of dollars)\n",
    "months = ['Jan', 'Feb', 'Mar', 'Apr', 'May', 'Jun']\n",
    "product_a_revenue = [45, 55, 60, 70, 80, 75]\n",
    "product_b_revenue = [35, 40, 50, 55, 70, 68]\n",
    "\n",
    "# Create a line plot for Product A with a blue line and circular markers\n",
    "plt.plot(months, product_a_revenue, marker='o', linestyle='-', color='blue', label='Product A')\n",
    "\n",
    "# Create a line plot for Product B with a red dashed line and square markers\n",
    "plt.plot(months, product_b_revenue, marker='s', linestyle='--', color='red', label='Product B')\n",
    "\n",
    "# Add labels and a title\n",
    "plt.xlabel('Month')\n",
    "plt.ylabel('Monthly Revenue (in $1000)')\n",
    "plt.title('Monthly Revenue Comparison')\n",
    "\n",
    "# Display a legend to differentiate between Product A and Product B\n",
    "plt.legend()\n",
    "\n",
    "# Display the plot\n",
    "plt.show()"
   ]
  },
  {
   "cell_type": "code",
   "execution_count": null,
   "metadata": {},
   "outputs": [],
   "source": [
    "import matplotlib.pyplot as plt\n",
    "\n",
    "# Expense categories\n",
    "categories = ['Housing', 'Transportation', 'Food', 'Entertainment', 'Utilities']\n",
    "\n",
    "# Monthly expenses for Alice, Bob, and Carol\n",
    "alice_expenses = [1200, 300, 400, 200, 150]\n",
    "bob_expenses = [1100, 320, 380, 180, 140]\n",
    "carol_expenses = [1300, 280, 420, 220, 160]\n",
    "\n",
    "# Create an array for the x-axis positions\n",
    "x = list(range(len(categories)))\n",
    "\n",
    "# Width of the bars, we need it as we intend to plot multiple bars.\n",
    "bar_width = 0.2\n",
    "\n",
    "# Create bars for Alice's expenses, Subract bar width from x array,\n",
    "# such that it will be placed to the left.\n",
    "plt.bar([i - bar_width for i in x], alice_expenses, width=bar_width, label='Alice', color='skyblue')\n",
    "\n",
    "# Create bars for Bob's expenses\n",
    "plt.bar(x, bob_expenses, width=bar_width, label='Bob', color='lightcoral')\n",
    "\n",
    "# Create bars for Carol's expenses, Add bar width to x array,\n",
    "# such that it will be placed to the right.\n",
    "plt.bar([i + bar_width for i in x], carol_expenses, width=bar_width, label='Carol', color='lightgreen')\n",
    "\n",
    "# Add labels, a title, and a legend\n",
    "plt.xlabel('Expense Categories')\n",
    "plt.ylabel('Monthly Expenses (USD)')\n",
    "plt.title('Monthly Expenses Comparison')\n",
    "\n",
    "# To show the category names at x-axis positions.\n",
    "plt.xticks(x, categories)\n",
    "plt.legend()\n",
    "\n",
    "# Display the plot\n",
    "plt.show()"
   ]
  },
  {
   "cell_type": "code",
   "execution_count": null,
   "metadata": {},
   "outputs": [],
   "source": [
    "# A sample data for stores\n",
    "# Store Size Represents the size of each store in 100sq.ft\n",
    "stores = ['Store A', 'Store B', 'Store C', 'Store D', 'Store E']\n",
    "customers = [120, 90, 150, 80, 200]\n",
    "revenue = [20000, 18000, 25000, 17000, 30000]\n",
    "store_size = [10, 5, 15, 8, 20]  \n",
    "\n",
    "# Here we are scaling the store sizes for point sizes in the scatter plot\n",
    "point_sizes = [size * 100 for size in store_size]\n",
    "\n",
    "# To Create a scatter plot with different point sizes\n",
    "# Here alpha controls the intensity of the color\n",
    "plt.scatter(customers, revenue, s=point_sizes, c='skyblue', alpha=0.7, edgecolors='b')\n",
    "\n",
    "# Add labels, a title, and a legend\n",
    "plt.xlabel('Number of Customers')\n",
    "plt.ylabel('Revenue (USD)')\n",
    "plt.title('Relationship between Customers, Revenue, and Store Size')\n",
    "\n",
    "# To Display the plot\n",
    "plt.show()"
   ]
  },
  {
   "cell_type": "code",
   "execution_count": null,
   "metadata": {},
   "outputs": [],
   "source": [
    "import matplotlib.pyplot as plt\n",
    "\n",
    "# Sample exam scores data\n",
    "exam_scores = [68, 72, 75, 80, 82, 84, 86, 90, 92, 95, 98, 100]\n",
    "\n",
    "# Custom bin ranges\n",
    "bin_ranges = [60, 70, 80, 90, 100]\n",
    "\n",
    "# Create a histogram with custom bin ranges by assigning it to bins\n",
    "plt.hist(exam_scores, bins=bin_ranges, color='lightblue', edgecolor='black', alpha=0.7)\n",
    "\n",
    "# Add labels and a title\n",
    "plt.xlabel('Exam Scores')\n",
    "plt.ylabel('Frequency')\n",
    "plt.title('Exam Scores Histogram with Custom Bins')\n",
    "\n",
    "# Calculate and add a median line\n",
    "sorted_scores = sorted(exam_scores)\n",
    "n = len(sorted_scores)\n",
    "if n % 2 == 0:\n",
    "    median_score = (sorted_scores[n//2-1] + sorted_scores[n//2]) / 2\n",
    "else:\n",
    "    median_score = sorted_scores[n//2]\n",
    "plt.axvline(median_score, color='red', linestyle='dashed', linewidth=2, label=f'Median Score: {median_score}')\n",
    "\n",
    "# Add a legend\n",
    "plt.legend()\n",
    "\n",
    "# Display the plot\n",
    "plt.show()"
   ]
  },
  {
   "cell_type": "code",
   "execution_count": null,
   "metadata": {},
   "outputs": [],
   "source": [
    "# Product categories\n",
    "categories = ['Electronics', 'Clothing', 'Home Decor', 'Books', 'Toys']\n",
    "\n",
    "# Sales data for each category\n",
    "sales = [3500, 2800, 2000, 1500, 1200]\n",
    "\n",
    "# Explode a specific segment (e.g., 'Clothing')\n",
    "# second value (0.1) is the amount by which the segment 'Clothing'\n",
    "explode = (0, 0.1, 0, 0, 0)  \n",
    "\n",
    "# Create a pie chart with explode and shadow\n",
    "plt.pie(sales, labels=categories, explode=explode, shadow=True, autopct='%1.1f%%')\n",
    "plt.title('Sales by Product Category')\n",
    "\n",
    "# Display the plot\n",
    "plt.show()"
   ]
  },
  {
   "cell_type": "code",
   "execution_count": null,
   "metadata": {},
   "outputs": [],
   "source": [
    "import random\n",
    "\n",
    "# Generate random data with outliers\n",
    "random.seed(42)\n",
    "data = [random.normalvariate(0, 1) for _ in range(100)] + [random.normalvariate(6, 1) for _ in range(10)]\n",
    "\n",
    "# Create a box plot with outliers\n",
    "plt.figure(figsize=(8, 6))  # Set the figure size\n",
    "plt.boxplot(data, vert=False, patch_artist=True, \n",
    "            boxprops={'facecolor': 'lightblue'}, \n",
    "            flierprops={'marker': 'o', 'markerfacecolor': 'red', \n",
    "                        'markeredgecolor': 'red'})\n",
    "\n",
    "# Add labels and a title\n",
    "plt.xlabel('Values')\n",
    "plt.title('Box Plot with Outliers')\n",
    "\n",
    "# Display the plot\n",
    "plt.grid(True)  # Add a grid for better readability\n",
    "plt.show()"
   ]
  },
  {
   "cell_type": "code",
   "execution_count": null,
   "metadata": {},
   "outputs": [],
   "source": [
    "# Create a sample correlation matrix\n",
    "correlation_matrix = [[1.0, 0.8, 0.3, -0.2],\n",
    "                      [0.8, 1.0, 0.5, 0.1],\n",
    "                      [0.3, 0.5, 1.0, -0.4],\n",
    "                      [-0.2, 0.1, -0.4, 1.0]]\n",
    "\n",
    "# Create a heatmap for the correlation matrix\n",
    "plt.imshow(correlation_matrix, cmap='coolwarm', vmin=-1, vmax=1, aspect='auto', origin='upper')\n",
    "\n",
    "# Add a colorbar with the following commands\n",
    "cbar = plt.colorbar()\n",
    "cbar.set_label('Correlation', rotation=270, labelpad=20)\n",
    "\n",
    "# Add labels and a title\n",
    "plt.title('Correlation Matrix Heatmap')\n",
    "plt.xticks(range(len(correlation_matrix)), ['Var1', 'Var2', 'Var3', 'Var4'])\n",
    "plt.yticks(range(len(correlation_matrix)), ['Var1', 'Var2', 'Var3', 'Var4'])\n",
    "\n",
    "plt.show()"
   ]
  },
  {
   "cell_type": "code",
   "execution_count": null,
   "metadata": {},
   "outputs": [],
   "source": [
    "# Sample data for stack plot\n",
    "quarters = ['Q1', 'Q2', 'Q3', 'Q4']\n",
    "electronics = [10000, 12000, 11000, 10500]\n",
    "clothing = [5000, 6000, 7500, 8000]\n",
    "home_appliances = [7000, 7500, 8200, 9000]\n",
    "\n",
    "# Create a stack plot\n",
    "plt.figure(figsize=(10, 6))  # Set the figure size\n",
    "plt.stackplot(quarters, electronics, clothing, home_appliances, labels=['Electronics', 'Clothing', 'Home Appliances'],\n",
    "              colors=['blue', 'green', 'red'], alpha=0.7)\n",
    "\n",
    "# Add labels, legend, and title\n",
    "plt.xlabel('Quarters')\n",
    "plt.ylabel('Sales ($)')\n",
    "plt.title('Product Category Sales Over Quarters')\n",
    "plt.legend(loc='upper left')\n",
    "\n",
    "# Display the plot\n",
    "plt.grid(True)\n",
    "plt.show()"
   ]
  },
  {
   "cell_type": "markdown",
   "metadata": {
    "jp-MarkdownHeadingCollapsed": true
   },
   "source": [
    "## seaborn"
   ]
  },
  {
   "cell_type": "code",
   "execution_count": null,
   "metadata": {},
   "outputs": [],
   "source": [
    "# uncomment to install on first run\n",
    "#%pip install seaborn\n",
    "\n",
    "import seaborn as sns\n",
    "import matplotlib.pyplot as plt"
   ]
  },
  {
   "cell_type": "code",
   "execution_count": null,
   "metadata": {},
   "outputs": [],
   "source": [
    "# check available datasets in seaborn\n",
    "sns.get_dataset_names()"
   ]
  },
  {
   "cell_type": "code",
   "execution_count": null,
   "metadata": {},
   "outputs": [],
   "source": [
    "# Restaurant tips data \n",
    "# Downloaded from seaborn\n",
    "tips = sns.load_dataset('tips')\n",
    "\n",
    "tips.head()"
   ]
  },
  {
   "cell_type": "markdown",
   "metadata": {
    "jp-MarkdownHeadingCollapsed": true
   },
   "source": [
    "## categorical plots"
   ]
  },
  {
   "cell_type": "code",
   "execution_count": null,
   "metadata": {},
   "outputs": [],
   "source": [
    "# Count Plot\n",
    "plt.figure(figsize=(8, 5))\n",
    "sns.countplot(x=\"day\", hue=\"day\", data=tips, palette=\"Set3\", legend=False)\n",
    "plt.title(\"Count of Tips by Day of the Week\")\n",
    "plt.show()"
   ]
  },
  {
   "cell_type": "code",
   "execution_count": null,
   "metadata": {},
   "outputs": [],
   "source": [
    "# Swarm Plot\n",
    "plt.figure(figsize=(8, 5))\n",
    "sns.swarmplot(x=\"day\", hue=\"day\",y=\"total_bill\", data=tips, palette=\"viridis\", legend=False)\n",
    "plt.title(\"Total Bill Distribution by Day of the Week\")\n",
    "plt.xlabel(\"Day of the Week\")\n",
    "plt.ylabel(\"Total Bill ($)\")\n",
    "plt.show()"
   ]
  },
  {
   "cell_type": "code",
   "execution_count": null,
   "metadata": {},
   "outputs": [],
   "source": [
    "# Point Plot\n",
    "plt.figure(figsize=(8, 5))\n",
    "sns.pointplot(x=\"day\", hue=\"day\", y=\"total_bill\", data=tips, errorbar=\"sd\", palette=\"pastel\", legend=False)\n",
    "plt.title(\"Average Total Bill by Day of the Week\")\n",
    "plt.xlabel(\"Day of the Week\")\n",
    "plt.ylabel(\"Average Total Bill ($)\")\n",
    "plt.show()"
   ]
  },
  {
   "cell_type": "code",
   "execution_count": null,
   "metadata": {},
   "outputs": [],
   "source": [
    "# Categorical Box Plot\n",
    "plt.figure(figsize=(8, 5))\n",
    "sns.boxplot(x=\"time\", hue=\"time\", y=\"total_bill\", data=tips, palette=\"coolwarm\", legend=False)\n",
    "plt.title(\"Total Bill Distribution by Meal Time\")\n",
    "plt.xlabel(\"Meal Time\")\n",
    "plt.ylabel(\"Total Bill ($)\")\n",
    "plt.show()"
   ]
  },
  {
   "cell_type": "code",
   "execution_count": null,
   "metadata": {},
   "outputs": [],
   "source": [
    "# Categorical Violin Plot\n",
    "plt.figure(figsize=(10, 8))\n",
    "sns.violinplot(x=\"day\", hue=\"day\", y=\"total_bill\", data=tips, palette=\"Set2\", legend=False)\n",
    "plt.title(\"Total Bill Distribution by Day of the Week\")\n",
    "plt.xlabel(\"Day of the Week\")\n",
    "plt.ylabel(\"Total Bill ($)\")\n",
    "plt.show()"
   ]
  },
  {
   "cell_type": "code",
   "execution_count": null,
   "metadata": {},
   "outputs": [],
   "source": [
    "# Box Plot using cat plot\n",
    "plt.figure(figsize=(8, 5))\n",
    "sns.catplot(x=\"day\", hue=\"day\", y=\"total_bill\", data=tips, kind=\"box\", palette=\"coolwarm\", legend=False)\n",
    "plt.title(\"Total Bill Distribution by Day of the Week\")\n",
    "plt.xlabel(\"Day of the Week\")\n",
    "plt.ylabel(\"Total Bill ($)\")\n",
    "plt.show()"
   ]
  },
  {
   "cell_type": "code",
   "execution_count": null,
   "metadata": {},
   "outputs": [],
   "source": [
    "# Violin Plot using cat plot\n",
    "plt.figure(figsize=(8, 5))\n",
    "sns.catplot(x=\"time\", hue=\"time\", y=\"total_bill\", data=tips, kind=\"violin\", palette=\"Set2\", legend=False)\n",
    "plt.title(\"Total Bill Distribution by Time of Day\")\n",
    "plt.xlabel(\"Time of Day\")\n",
    "plt.ylabel(\"Total Bill ($)\")\n",
    "plt.show()"
   ]
  },
  {
   "cell_type": "markdown",
   "metadata": {
    "jp-MarkdownHeadingCollapsed": true
   },
   "source": [
    "## univariate plots"
   ]
  },
  {
   "cell_type": "code",
   "execution_count": null,
   "metadata": {},
   "outputs": [],
   "source": [
    "# Rug Plot\n",
    "plt.figure(figsize=(8, 5))\n",
    "sns.rugplot(x=tips['total_bill'], height=0.5)\n",
    "plt.title(\"Rug Plot of Total Bill\")\n",
    "plt.xlabel(\"Total Bill ($)\")\n",
    "plt.ylabel(\"Density\")\n",
    "plt.show()"
   ]
  },
  {
   "cell_type": "code",
   "execution_count": null,
   "metadata": {},
   "outputs": [],
   "source": [
    "# Strip Plot for Univariate Visualization\n",
    "plt.figure(figsize=(8, 5))\n",
    "sns.histplot(data=tips['total_bill'], kde=True, edgecolor=\"none\")\n",
    "plt.title(\"Total Bill Distribution\")\n",
    "plt.xlabel(\"Total Bill ($)\")\n",
    "plt.show()"
   ]
  },
  {
   "cell_type": "code",
   "execution_count": null,
   "metadata": {},
   "outputs": [],
   "source": [
    "# Box Plot for Univariate Visualization\n",
    "plt.figure(figsize=(8, 5))\n",
    "sns.boxplot(x=tips['total_bill'], color=\"#8ebad9\")\n",
    "plt.title(\"Total Bill Distribution\")\n",
    "plt.xlabel(\"Total Bill ($)\")\n",
    "plt.show()"
   ]
  },
  {
   "cell_type": "code",
   "execution_count": null,
   "metadata": {},
   "outputs": [],
   "source": [
    "# Strip Plot for Univariate Visualization\n",
    "plt.figure(figsize=(8, 5))\n",
    "sns.stripplot(x=tips['total_bill'], color=\"#8ebad9\", jitter=True)\n",
    "plt.title(\"Total Bill Distribution\")\n",
    "plt.xlabel(\"Total Bill ($)\")\n",
    "plt.show()"
   ]
  },
  {
   "cell_type": "markdown",
   "metadata": {
    "jp-MarkdownHeadingCollapsed": true
   },
   "source": [
    "## bivariate"
   ]
  },
  {
   "cell_type": "code",
   "execution_count": null,
   "metadata": {},
   "outputs": [],
   "source": [
    "# Regression Plot\n",
    "plt.figure(figsize=(8, 5))\n",
    "sns.regplot(x=\"total_bill\", y=\"tip\", data=tips, scatter_kws={\"color\": \"blue\"}, line_kws={\"color\": \"red\"})\n",
    "plt.title(\"Regression Plot of Total Bill vs. Tip\")\n",
    "plt.xlabel(\"Total Bill ($)\")\n",
    "plt.ylabel(\"Tip ($)\")\n",
    "plt.show()"
   ]
  },
  {
   "cell_type": "code",
   "execution_count": null,
   "metadata": {},
   "outputs": [],
   "source": [
    "# Joint Plot\n",
    "sns.jointplot(x=\"total_bill\", y=\"tip\", data=tips, kind=\"scatter\")\n",
    "plt.show()"
   ]
  },
  {
   "cell_type": "code",
   "execution_count": null,
   "metadata": {},
   "outputs": [],
   "source": [
    "# Hexbin Plot\n",
    "plt.figure(figsize=(8, 5))\n",
    "sns.jointplot(x=\"total_bill\", y=\"tip\",kind='hex', data=tips, gridsize=15, cmap=\"Blues\")\n",
    "plt.title(\"Hexbin Plot of Total Bill vs. Tip\")\n",
    "plt.xlabel(\"Total Bill ($)\")\n",
    "plt.ylabel(\"Tip ($)\")\n",
    "plt.show()"
   ]
  },
  {
   "cell_type": "markdown",
   "metadata": {
    "jp-MarkdownHeadingCollapsed": true
   },
   "source": [
    "## multivariate plots"
   ]
  },
  {
   "cell_type": "code",
   "execution_count": null,
   "metadata": {},
   "outputs": [],
   "source": [
    "# Violin Plot with Hue\n",
    "plt.figure(figsize=(10, 6))\n",
    "sns.violinplot(\n",
    "    x=\"day\",         # x-axis: Days of the week (categorical)\n",
    "    y=\"total_bill\",  # y-axis: Total bill amount (numerical)\n",
    "    data=tips, \n",
    "    hue=\"sex\",       # Color by gender (categorical)\n",
    "    palette=\"Set1\",  # Color palette\n",
    "    split=True       # Split violins by hue categories\n",
    ")\n",
    "\n",
    "plt.title(\"Violin Plot with Hue for Total Bill by Day and Gender\")\n",
    "plt.xlabel(\"Day of the Week\")\n",
    "plt.ylabel(\"Total Bill ($)\")\n",
    "plt.legend(title=\"Gender\")\n",
    "plt.show()"
   ]
  },
  {
   "cell_type": "code",
   "execution_count": null,
   "metadata": {},
   "outputs": [],
   "source": [
    "# Scatter Plot with Hue and Size\n",
    "plt.figure(figsize=(10, 8))\n",
    "sns.scatterplot(\n",
    "    x=\"total_bill\", \n",
    "    y=\"tip\", \n",
    "    data=tips, \n",
    "    hue=\"day\",      # Color by day (categorical)\n",
    "    size=\"size\",    # Vary marker size by size column (numerical)\n",
    "    sizes=(20, 200),  # Define the size range for markers\n",
    "    palette=\"Set1\"  # Color palette\n",
    ")\n",
    "plt.title(\"Scatter Plot with Hue and Size for Tips Dataset\")\n",
    "plt.xlabel(\"Total Bill ($)\")\n",
    "plt.ylabel(\"Tip ($)\")\n",
    "plt.legend(title=\"Day\")\n",
    "plt.show()"
   ]
  },
  {
   "cell_type": "code",
   "execution_count": null,
   "metadata": {},
   "outputs": [],
   "source": [
    "# Create a scatterplot using a Relational Plot (relplot)\n",
    "sns.relplot(x=\"total_bill\", y=\"tip\", data=tips, hue=\"time\", \n",
    "            style=\"sex\", size=\"size\", palette=\"Set1\", height=6)\n",
    "plt.title(\"Relational Scatter Plot for Tips Dataset\")\n",
    "plt.xlabel(\"Total Bill ($)\")\n",
    "plt.ylabel(\"Tip ($)\")\n",
    "plt.savefig('relplot_with_mv.png')\n",
    "plt.show()"
   ]
  },
  {
   "cell_type": "code",
   "execution_count": null,
   "metadata": {},
   "outputs": [],
   "source": [
    "# Create a facet grid using a Relational Plot (relplot)\n",
    "g = sns.relplot(x=\"total_bill\", y=\"tip\",\n",
    "                data=tips, hue=\"time\",\n",
    "                col=\"day\",  # Separate plots by day (columns)\n",
    "                row=\"sex\",  # Separate plots by gender (rows)\n",
    "                palette=\"Set1\",\n",
    "                height=3,  # Height of each subplot\n",
    "                aspect=1.2  # Aspect ratio of each subplot\n",
    ")\n",
    "\n",
    "# Set titles and labels for the facets\n",
    "g.set_titles(col_template=\"{col_name} Day\", row_template=\"{row_name} Gender\")\n",
    "g.set_axis_labels(\"Total Bill ($)\", \"Tip ($)\")\n",
    "plt.suptitle(\"Relational Scatter Plots by Day and Gender\")\n",
    "plt.subplots_adjust(top=0.9)  # Adjust the title position\n",
    "plt.show()"
   ]
  },
  {
   "cell_type": "code",
   "execution_count": null,
   "metadata": {},
   "outputs": [],
   "source": [
    "# Load the \"iris\" dataset\n",
    "iris = sns.load_dataset(\"iris\")\n",
    "\n",
    "# Pair Plot\n",
    "sns.set(style=\"ticks\")\n",
    "sns.pairplot(iris, hue=\"species\", markers=[\"o\", \"s\", \"D\"])\n",
    "plt.show()"
   ]
  },
  {
   "cell_type": "code",
   "execution_count": null,
   "metadata": {},
   "outputs": [],
   "source": [
    "# Load the \"iris\" dataset\n",
    "iris = sns.load_dataset(\"iris\")\n",
    "\n",
    "# Create a Facet Grid of pairwise scatterplots\n",
    "g = sns.PairGrid(iris, hue=\"species\")\n",
    "g.map_upper(sns.scatterplot)\n",
    "g.map_diag(sns.histplot, kde_kws={\"color\": \"k\"})\n",
    "g.map_lower(sns.kdeplot)\n",
    "g.add_legend()\n",
    "plt.show()"
   ]
  },
  {
   "cell_type": "markdown",
   "metadata": {
    "jp-MarkdownHeadingCollapsed": true
   },
   "source": [
    "## matrix plots"
   ]
  },
  {
   "cell_type": "code",
   "execution_count": null,
   "metadata": {},
   "outputs": [],
   "source": [
    "# Import Seaborn\n",
    "import seaborn as sns\n",
    "\n",
    "# To see the datasets offered by seaborn\n",
    "print(sns.get_dataset_names())\n",
    "# Let's use a dataset offered by seaborn\n",
    "titanic = sns.load_dataset('titanic')\n",
    "# To see the top5 rows\n",
    "titanic.head()"
   ]
  },
  {
   "cell_type": "code",
   "execution_count": null,
   "metadata": {},
   "outputs": [],
   "source": [
    "# Load the Titanic dataset\n",
    "titanic = sns.load_dataset(\"titanic\")\n",
    "\n",
    "# Select only numeric columns\n",
    "# Note: will work assuming that your DataFrame only \n",
    "# contains float64 and int64 data types for numeric columns\n",
    "# If there are other numeric data types in your DataFrame,\n",
    "# add them to the include list\n",
    "numeric_cols = titanic.select_dtypes(include=['float64', 'int64'])\n",
    "\n",
    "# Compute the correlation matrix\n",
    "correlation_matrix = numeric_cols.corr()\n",
    "\n",
    "plt.figure(figsize=(10,8))\n",
    "# Create a heatmap of the correlation matrix\n",
    "sns.heatmap(correlation_matrix, annot=True, cmap=\"coolwarm\")\n",
    "plt.title(\"Correlation Heatmap of Titanic Dataset\")\n",
    "plt.show()\n"
   ]
  },
  {
   "cell_type": "markdown",
   "metadata": {},
   "source": [
    "Further Reading:\n",
    "https://seaborn.pydata.org/\n",
    "\n",
    "Book: Fundamentals of Data Visualization: A Primer on Making Informative and Compelling Figures. Book by Claus O. Wilke. O’Reilly Media."
   ]
  }
 ],
 "metadata": {
  "kernelspec": {
   "display_name": "Python 3 (ipykernel)",
   "language": "python",
   "name": "python3"
  },
  "language_info": {
   "codemirror_mode": {
    "name": "ipython",
    "version": 3
   },
   "file_extension": ".py",
   "mimetype": "text/x-python",
   "name": "python",
   "nbconvert_exporter": "python",
   "pygments_lexer": "ipython3",
   "version": "3.11.4"
  }
 },
 "nbformat": 4,
 "nbformat_minor": 4
}
